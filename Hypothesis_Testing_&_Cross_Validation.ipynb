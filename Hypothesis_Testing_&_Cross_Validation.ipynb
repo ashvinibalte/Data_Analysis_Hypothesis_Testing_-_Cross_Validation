{
  "cells": [
    {
      "cell_type": "code",
      "execution_count": null,
      "metadata": {
        "jupyter": {
          "outputs_hidden": false
        },
        "id": "-DJFIOEjBgHu"
      },
      "outputs": [],
      "source": [
        "from sklearn import datasets\n",
        "from sklearn.model_selection import train_test_split\n",
        "from sklearn.metrics import mean_squared_error\n",
        "from sklearn.linear_model import RidgeCV\n",
        "from sklearn.metrics import mean_squared_error\n",
        "from scipy import stats\n",
        "import numpy as np"
      ]
    },
    {
      "cell_type": "markdown",
      "metadata": {
        "id": "I_TT38FyBgHw"
      },
      "source": [
        "## Load the dataset"
      ]
    },
    {
      "cell_type": "code",
      "execution_count": null,
      "metadata": {
        "jupyter": {
          "outputs_hidden": false
        },
        "colab": {
          "base_uri": "https://localhost:8080/"
        },
        "id": "1mqqaL40BgHx",
        "outputId": "ae41ba19-716c-4f8a-c6c2-90c03eede254"
      },
      "outputs": [
        {
          "output_type": "stream",
          "name": "stdout",
          "text": [
            "dim(X) =  (442, 10)\n",
            "X=\n",
            " [[ 0.038  0.051  0.062 ... -0.003  0.02  -0.018]\n",
            " [-0.002 -0.045 -0.051 ... -0.039 -0.068 -0.092]\n",
            " [ 0.085  0.051  0.044 ... -0.003  0.003 -0.026]\n",
            " ...\n",
            " [ 0.042  0.051 -0.016 ... -0.011 -0.047  0.015]\n",
            " [-0.045 -0.045  0.039 ...  0.027  0.045 -0.026]\n",
            " [-0.045 -0.045 -0.073 ... -0.039 -0.004  0.003]]\n"
          ]
        }
      ],
      "source": [
        "# Source of data: http://web.stanford.edu/~hastie/Papers/LARS/LeastAngle_2002.pdf\n",
        "#\n",
        "# AGE SEX BMI BP ··· Serum Measurements ··· Response\n",
        "# x1  x2  x3  x4     x5 x6 x7 x8 x9 x10     y\n",
        "\n",
        "diabetes = datasets.load_diabetes()\n",
        "X = diabetes.data\n",
        "y = diabetes.target\n",
        "print('dim(X) = ', X.shape)\n",
        "np.set_printoptions(precision=3)\n",
        "print('X=\\n', X)"
      ]
    },
    {
      "cell_type": "code",
      "execution_count": null,
      "metadata": {
        "colab": {
          "base_uri": "https://localhost:8080/"
        },
        "id": "ahnrZjRFBgHz",
        "outputId": "6cdbaed5-6777-4224-e621-3b2d09a06a8e"
      },
      "outputs": [
        {
          "output_type": "stream",
          "name": "stdout",
          "text": [
            "dim(X_train) =  (296, 10)\n",
            "dim(X_test) =  (146, 10)\n"
          ]
        }
      ],
      "source": [
        "# split the dataset into tran (2/3) and test (1/3)\n",
        "X_train, X_test, y_train, y_test = train_test_split(X, y, test_size=0.33, random_state=42)\n",
        "print('dim(X_train) = ', X_train.shape)\n",
        "print('dim(X_test) = ', X_test.shape)"
      ]
    },
    {
      "cell_type": "markdown",
      "metadata": {
        "id": "Kf96dGPqBgHz"
      },
      "source": [
        "## Ridge regression with LOOCV"
      ]
    },
    {
      "cell_type": "code",
      "execution_count": null,
      "metadata": {
        "jupyter": {
          "outputs_hidden": false
        },
        "colab": {
          "base_uri": "https://localhost:8080/"
        },
        "id": "cVrHeLB_BgH0",
        "outputId": "420d639f-a35f-4980-ff69-cb7764955623"
      },
      "outputs": [
        {
          "output_type": "stream",
          "name": "stdout",
          "text": [
            "alpha =  0.1\n",
            "coef =  [  39.096 -197.812  511.287  358.842  -93.211  -73.24  -220.198  118.041\n",
            "  344.885   25.161]\n"
          ]
        }
      ],
      "source": [
        "# Leave One Out Cross Validation\n",
        "l2_cv = RidgeCV(cv=None, store_cv_values=True)\n",
        "l2_cv.fit(X_train, y_train)\n",
        "print('alpha = ', l2_cv.alpha_)\n",
        "print('coef = ', l2_cv.coef_)"
      ]
    },
    {
      "cell_type": "code",
      "execution_count": null,
      "metadata": {
        "colab": {
          "base_uri": "https://localhost:8080/"
        },
        "id": "g1fpp5nYBgH1",
        "outputId": "8e03c2a6-4311-4a18-dd46-10966c2a2850"
      },
      "outputs": [
        {
          "output_type": "stream",
          "name": "stdout",
          "text": [
            "[ 0.1  1.  10. ]\n"
          ]
        }
      ],
      "source": [
        "# What are the regularization parameters tried in the RidgeCV?\n",
        "print(l2_cv.alphas)"
      ]
    },
    {
      "cell_type": "code",
      "execution_count": null,
      "metadata": {
        "colab": {
          "base_uri": "https://localhost:8080/"
        },
        "id": "mKpRRXZuBgH1",
        "outputId": "d1522892-ecb9-4d6a-bef8-bb067ec6c4c4"
      },
      "outputs": [
        {
          "output_type": "stream",
          "name": "stdout",
          "text": [
            "dim(cv_values)= (296, 3)\n",
            "cv_values=\n",
            " [[2.366e+00 5.865e+00 4.958e+00]\n",
            " [1.082e+02 4.174e+00 8.459e+02]\n",
            " [3.313e+02 1.575e+03 1.670e+03]\n",
            " [4.632e+03 7.043e+03 5.938e+03]\n",
            " [2.334e+03 2.399e+03 1.339e+03]]\n"
          ]
        }
      ],
      "source": [
        "# Print the individual performance scores for the 10 folds coresponding to all regularization coefficients\n",
        "# by default cv_values store the mean squared errors\n",
        "print('dim(cv_values)=', l2_cv.cv_values_.shape)\n",
        "print('cv_values=\\n', l2_cv.cv_values_[:5,:])"
      ]
    },
    {
      "cell_type": "code",
      "execution_count": null,
      "metadata": {
        "colab": {
          "base_uri": "https://localhost:8080/"
        },
        "id": "SOyCl3eMBgH1",
        "outputId": "dd9ad8b7-700c-4401-faa4-dbe63a9f87c7"
      },
      "outputs": [
        {
          "output_type": "stream",
          "name": "stdout",
          "text": [
            "means =  [3159.13  3675.778 5274.707]\n",
            "SEs =  [229.249 241.515 339.414]\n"
          ]
        }
      ],
      "source": [
        "# Get the mean and standard error of the performance metric - by default is the mean squared errors\n",
        "means_MSE = l2_cv.cv_values_.mean(axis=0)\n",
        "SEs_MSE = l2_cv.cv_values_.std(axis=0)/np.sqrt(l2_cv.cv_values_.shape[0])\n",
        "print('means = ', means_MSE)\n",
        "print('SEs = ', SEs_MSE)"
      ]
    },
    {
      "cell_type": "code",
      "execution_count": null,
      "metadata": {
        "colab": {
          "base_uri": "https://localhost:8080/"
        },
        "id": "cf7Y8dl7BgH2",
        "outputId": "2cd43874-04c1-4437-984c-d2730da1c0bb"
      },
      "outputs": [
        {
          "output_type": "stream",
          "name": "stdout",
          "text": [
            "95% conf. int. avg. pred. MSE (alpha=0.1) = [ 2709.802711995863 ,  3608.4568395757183 ]\n",
            "testing error obtained in testing dataset =  2807.3890485641673\n"
          ]
        }
      ],
      "source": [
        "# compare the average prediction error given by CV\n",
        "# with the testing error on the testing dataset\n",
        "print('95% conf. int. avg. pred. MSE (alpha=0.1) = [', means_MSE[0]-1.96*SEs_MSE[0],\n",
        "      ', ', means_MSE[0]+1.96*SEs_MSE[0], ']')\n",
        "\n",
        "y_pred_test = l2_cv.predict(X_test)\n",
        "test_RMSE = mean_squared_error(y_test, y_pred_test)\n",
        "print('testing error obtained in testing dataset = ', test_RMSE)"
      ]
    },
    {
      "cell_type": "markdown",
      "source": [
        "### **Change example_Ridge.ipynb by copying which_is_better() function from Hypothesis_Testing.ipynb.**"
      ],
      "metadata": {
        "id": "DAUwCSAsxvVp"
      }
    },
    {
      "cell_type": "code",
      "execution_count": null,
      "metadata": {
        "id": "vqIX--e1BhPE"
      },
      "outputs": [],
      "source": [
        "def which_is_better(M1_values, M2_values, alpha_one_tail=0.025):\n",
        "    # Test whether mean(M1) > mean(M2) using Welch's t-test\n",
        "    # at default alpha = 0.025 significance level for the one tail test\n",
        "    #\n",
        "    # Note that stats.ttest_ind return the two-tailed p-value\n",
        "    #\n",
        "    # Null hypothesis: mean(M1) <= mean(M2)\n",
        "    # Alternative: mean(M1) > mean(M2)\n",
        "    #\n",
        "    # REJECT if pvalue/2 < alpha\n",
        "\n",
        "    tstat, pvalue = stats.ttest_ind(M1_values, M2_values, equal_var = False)\n",
        "    print('tstat = ', tstat)\n",
        "    print('pvalue = ', pvalue)\n",
        "    if pvalue/2 < alpha_one_tail:\n",
        "        if tstat < 0.0:\n",
        "            print('Null rejected: more confident that mean(M2) > mean(M1)')\n",
        "        else:\n",
        "            print('Null rejected: more confident that mean(M1) > mean(M2)')\n",
        "        return True\n",
        "    else:\n",
        "        print('Cannot reject null: no confidence which one is better')\n",
        "        return False"
      ]
    },
    {
      "cell_type": "markdown",
      "source": [
        "**1. Which model do you prefer between alpha=0.1 and alpha=1?**"
      ],
      "metadata": {
        "id": "BpRie2bBFFxr"
      }
    },
    {
      "cell_type": "code",
      "source": [
        "which_is_better(l2_cv.cv_values_[:,0],l2_cv.cv_values_[:,1])"
      ],
      "metadata": {
        "colab": {
          "base_uri": "https://localhost:8080/"
        },
        "id": "n-y53JI5ix5i",
        "outputId": "01c6b36e-55fd-4db7-af96-7f557e192123"
      },
      "execution_count": null,
      "outputs": [
        {
          "output_type": "stream",
          "name": "stdout",
          "text": [
            "tstat =  -1.5489027377020113\n",
            "pvalue =  0.1219427641388961\n",
            "Cannot reject null: no confidence which one is better\n"
          ]
        },
        {
          "output_type": "execute_result",
          "data": {
            "text/plain": [
              "False"
            ]
          },
          "metadata": {},
          "execution_count": 10
        }
      ]
    },
    {
      "cell_type": "markdown",
      "source": [
        "**2. Which model do you prefer between alpha=0.1 and alpha=10?**\n"
      ],
      "metadata": {
        "id": "IUYkxDd8lGNu"
      }
    },
    {
      "cell_type": "code",
      "source": [
        "which_is_better(l2_cv.cv_values_[:,0],l2_cv.cv_values_[:,2])"
      ],
      "metadata": {
        "colab": {
          "base_uri": "https://localhost:8080/"
        },
        "id": "hQNEAGLClXST",
        "outputId": "359d2603-e3db-49cd-961e-82fbf60cd679"
      },
      "execution_count": null,
      "outputs": [
        {
          "output_type": "stream",
          "name": "stdout",
          "text": [
            "tstat =  -5.156485694998025\n",
            "pvalue =  3.587824628329308e-07\n",
            "Null rejected: more confident that mean(M2) > mean(M1)\n"
          ]
        },
        {
          "output_type": "execute_result",
          "data": {
            "text/plain": [
              "True"
            ]
          },
          "metadata": {},
          "execution_count": 11
        }
      ]
    },
    {
      "cell_type": "markdown",
      "source": [
        "**3. Which model do you prefer between alpha=1 and alpha=10?**"
      ],
      "metadata": {
        "id": "LZnjV8nklH5Z"
      }
    },
    {
      "cell_type": "code",
      "source": [
        "which_is_better(l2_cv.cv_values_[:,1],l2_cv.cv_values_[:,2])"
      ],
      "metadata": {
        "colab": {
          "base_uri": "https://localhost:8080/"
        },
        "id": "XfRQyNF9lYor",
        "outputId": "b5d69b3a-f5d9-42f8-92d3-f57a4cb7b237"
      },
      "execution_count": null,
      "outputs": [
        {
          "output_type": "stream",
          "name": "stdout",
          "text": [
            "tstat =  -3.8318182953512436\n",
            "pvalue =  0.00014236470562314335\n",
            "Null rejected: more confident that mean(M2) > mean(M1)\n"
          ]
        },
        {
          "output_type": "execute_result",
          "data": {
            "text/plain": [
              "True"
            ]
          },
          "metadata": {},
          "execution_count": 12
        }
      ]
    },
    {
      "cell_type": "markdown",
      "source": [
        "**4. Now given that larger alphas correspond to simple models, which model do you prefer from these three models?**\n",
        "\n",
        "**Answer :**Given that, **larger alpha values are correspond to simple model** then we can prefere the model which has samller mean value as performace matric, this gives us better performance.\n",
        "\n",
        "According to above code we get greater mean value is for alpha= 10\n",
        "\n",
        "so, we can write **mean(alpha=10) > mean(alpha=0.1)**\n",
        "\n",
        "**Also, mean(alpha=10) > mean(alpha=1)**\n",
        "\n",
        "Welch's t-test for mean(alpha=0.1) and  mean(alpha=1) is: Cannot reject null: no confidence which one is better.\n",
        "\n",
        "so, the mean(alpha=10) and mean(alpha=1) is equal  using Welch's t-test.\n",
        "\n",
        "For that reason we are selecting model with **alpha value is 1** ."
      ],
      "metadata": {
        "id": "48E2zNy_r1ia"
      }
    },
    {
      "cell_type": "markdown",
      "source": [
        "**5. Is the model selected by the hypothesis testing different from the model selected by RidgeCV?**\n",
        "\n",
        "**Answer:** The model selected by hypothesis testing is **Different** from as the model selected by RidgeCV"
      ],
      "metadata": {
        "id": "rT0mMmi7r8pR"
      }
    }
  ],
  "metadata": {
    "anaconda-cloud": {},
    "kernelspec": {
      "display_name": "Python 3 (ipykernel)",
      "language": "python",
      "name": "python3"
    },
    "language_info": {
      "codemirror_mode": {
        "name": "ipython",
        "version": 3
      },
      "file_extension": ".py",
      "mimetype": "text/x-python",
      "name": "python",
      "nbconvert_exporter": "python",
      "pygments_lexer": "ipython3",
      "version": "3.7.11"
    },
    "colab": {
      "provenance": []
    }
  },
  "nbformat": 4,
  "nbformat_minor": 0
}